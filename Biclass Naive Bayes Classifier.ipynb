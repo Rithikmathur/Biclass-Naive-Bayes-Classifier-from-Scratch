{
 "cells": [
  {
   "cell_type": "code",
   "execution_count": 1,
   "metadata": {
    "scrolled": true
   },
   "outputs": [],
   "source": [
    "import pandas as pd\n",
    "import numpy as np\n",
    "import scipy.stats as s"
   ]
  },
  {
   "cell_type": "code",
   "execution_count": 2,
   "metadata": {},
   "outputs": [],
   "source": [
    "# Taking data into pandas dataframe.\n",
    "data = pd.read_csv(\"tumorsdata.csv\")"
   ]
  },
  {
   "cell_type": "code",
   "execution_count": 3,
   "metadata": {},
   "outputs": [
    {
     "data": {
      "text/html": [
       "<div>\n",
       "<style scoped>\n",
       "    .dataframe tbody tr th:only-of-type {\n",
       "        vertical-align: middle;\n",
       "    }\n",
       "\n",
       "    .dataframe tbody tr th {\n",
       "        vertical-align: top;\n",
       "    }\n",
       "\n",
       "    .dataframe thead th {\n",
       "        text-align: right;\n",
       "    }\n",
       "</style>\n",
       "<table border=\"1\" class=\"dataframe\">\n",
       "  <thead>\n",
       "    <tr style=\"text-align: right;\">\n",
       "      <th></th>\n",
       "      <th>id</th>\n",
       "      <th>diagnosis</th>\n",
       "      <th>radius_mean</th>\n",
       "      <th>texture_mean</th>\n",
       "      <th>perimeter_mean</th>\n",
       "      <th>area_mean</th>\n",
       "      <th>smoothness_mean</th>\n",
       "      <th>compactness_mean</th>\n",
       "      <th>concavity_mean</th>\n",
       "      <th>concave points_mean</th>\n",
       "      <th>...</th>\n",
       "      <th>texture_worst</th>\n",
       "      <th>perimeter_worst</th>\n",
       "      <th>area_worst</th>\n",
       "      <th>smoothness_worst</th>\n",
       "      <th>compactness_worst</th>\n",
       "      <th>concavity_worst</th>\n",
       "      <th>concave points_worst</th>\n",
       "      <th>symmetry_worst</th>\n",
       "      <th>fractal_dimension_worst</th>\n",
       "      <th>Unnamed: 32</th>\n",
       "    </tr>\n",
       "  </thead>\n",
       "  <tbody>\n",
       "    <tr>\n",
       "      <th>0</th>\n",
       "      <td>842302</td>\n",
       "      <td>M</td>\n",
       "      <td>17.99</td>\n",
       "      <td>10.38</td>\n",
       "      <td>122.80</td>\n",
       "      <td>1001.0</td>\n",
       "      <td>0.11840</td>\n",
       "      <td>0.27760</td>\n",
       "      <td>0.3001</td>\n",
       "      <td>0.14710</td>\n",
       "      <td>...</td>\n",
       "      <td>17.33</td>\n",
       "      <td>184.60</td>\n",
       "      <td>2019.0</td>\n",
       "      <td>0.1622</td>\n",
       "      <td>0.6656</td>\n",
       "      <td>0.7119</td>\n",
       "      <td>0.2654</td>\n",
       "      <td>0.4601</td>\n",
       "      <td>0.11890</td>\n",
       "      <td>NaN</td>\n",
       "    </tr>\n",
       "    <tr>\n",
       "      <th>1</th>\n",
       "      <td>842517</td>\n",
       "      <td>M</td>\n",
       "      <td>20.57</td>\n",
       "      <td>17.77</td>\n",
       "      <td>132.90</td>\n",
       "      <td>1326.0</td>\n",
       "      <td>0.08474</td>\n",
       "      <td>0.07864</td>\n",
       "      <td>0.0869</td>\n",
       "      <td>0.07017</td>\n",
       "      <td>...</td>\n",
       "      <td>23.41</td>\n",
       "      <td>158.80</td>\n",
       "      <td>1956.0</td>\n",
       "      <td>0.1238</td>\n",
       "      <td>0.1866</td>\n",
       "      <td>0.2416</td>\n",
       "      <td>0.1860</td>\n",
       "      <td>0.2750</td>\n",
       "      <td>0.08902</td>\n",
       "      <td>NaN</td>\n",
       "    </tr>\n",
       "    <tr>\n",
       "      <th>2</th>\n",
       "      <td>84300903</td>\n",
       "      <td>M</td>\n",
       "      <td>19.69</td>\n",
       "      <td>21.25</td>\n",
       "      <td>130.00</td>\n",
       "      <td>1203.0</td>\n",
       "      <td>0.10960</td>\n",
       "      <td>0.15990</td>\n",
       "      <td>0.1974</td>\n",
       "      <td>0.12790</td>\n",
       "      <td>...</td>\n",
       "      <td>25.53</td>\n",
       "      <td>152.50</td>\n",
       "      <td>1709.0</td>\n",
       "      <td>0.1444</td>\n",
       "      <td>0.4245</td>\n",
       "      <td>0.4504</td>\n",
       "      <td>0.2430</td>\n",
       "      <td>0.3613</td>\n",
       "      <td>0.08758</td>\n",
       "      <td>NaN</td>\n",
       "    </tr>\n",
       "    <tr>\n",
       "      <th>3</th>\n",
       "      <td>84348301</td>\n",
       "      <td>M</td>\n",
       "      <td>11.42</td>\n",
       "      <td>20.38</td>\n",
       "      <td>77.58</td>\n",
       "      <td>386.1</td>\n",
       "      <td>0.14250</td>\n",
       "      <td>0.28390</td>\n",
       "      <td>0.2414</td>\n",
       "      <td>0.10520</td>\n",
       "      <td>...</td>\n",
       "      <td>26.50</td>\n",
       "      <td>98.87</td>\n",
       "      <td>567.7</td>\n",
       "      <td>0.2098</td>\n",
       "      <td>0.8663</td>\n",
       "      <td>0.6869</td>\n",
       "      <td>0.2575</td>\n",
       "      <td>0.6638</td>\n",
       "      <td>0.17300</td>\n",
       "      <td>NaN</td>\n",
       "    </tr>\n",
       "    <tr>\n",
       "      <th>4</th>\n",
       "      <td>84358402</td>\n",
       "      <td>M</td>\n",
       "      <td>20.29</td>\n",
       "      <td>14.34</td>\n",
       "      <td>135.10</td>\n",
       "      <td>1297.0</td>\n",
       "      <td>0.10030</td>\n",
       "      <td>0.13280</td>\n",
       "      <td>0.1980</td>\n",
       "      <td>0.10430</td>\n",
       "      <td>...</td>\n",
       "      <td>16.67</td>\n",
       "      <td>152.20</td>\n",
       "      <td>1575.0</td>\n",
       "      <td>0.1374</td>\n",
       "      <td>0.2050</td>\n",
       "      <td>0.4000</td>\n",
       "      <td>0.1625</td>\n",
       "      <td>0.2364</td>\n",
       "      <td>0.07678</td>\n",
       "      <td>NaN</td>\n",
       "    </tr>\n",
       "  </tbody>\n",
       "</table>\n",
       "<p>5 rows × 33 columns</p>\n",
       "</div>"
      ],
      "text/plain": [
       "         id diagnosis  radius_mean  texture_mean  perimeter_mean  area_mean  \\\n",
       "0    842302         M        17.99         10.38          122.80     1001.0   \n",
       "1    842517         M        20.57         17.77          132.90     1326.0   \n",
       "2  84300903         M        19.69         21.25          130.00     1203.0   \n",
       "3  84348301         M        11.42         20.38           77.58      386.1   \n",
       "4  84358402         M        20.29         14.34          135.10     1297.0   \n",
       "\n",
       "   smoothness_mean  compactness_mean  concavity_mean  concave points_mean  \\\n",
       "0          0.11840           0.27760          0.3001              0.14710   \n",
       "1          0.08474           0.07864          0.0869              0.07017   \n",
       "2          0.10960           0.15990          0.1974              0.12790   \n",
       "3          0.14250           0.28390          0.2414              0.10520   \n",
       "4          0.10030           0.13280          0.1980              0.10430   \n",
       "\n",
       "   ...  texture_worst  perimeter_worst  area_worst  smoothness_worst  \\\n",
       "0  ...          17.33           184.60      2019.0            0.1622   \n",
       "1  ...          23.41           158.80      1956.0            0.1238   \n",
       "2  ...          25.53           152.50      1709.0            0.1444   \n",
       "3  ...          26.50            98.87       567.7            0.2098   \n",
       "4  ...          16.67           152.20      1575.0            0.1374   \n",
       "\n",
       "   compactness_worst  concavity_worst  concave points_worst  symmetry_worst  \\\n",
       "0             0.6656           0.7119                0.2654          0.4601   \n",
       "1             0.1866           0.2416                0.1860          0.2750   \n",
       "2             0.4245           0.4504                0.2430          0.3613   \n",
       "3             0.8663           0.6869                0.2575          0.6638   \n",
       "4             0.2050           0.4000                0.1625          0.2364   \n",
       "\n",
       "   fractal_dimension_worst  Unnamed: 32  \n",
       "0                  0.11890          NaN  \n",
       "1                  0.08902          NaN  \n",
       "2                  0.08758          NaN  \n",
       "3                  0.17300          NaN  \n",
       "4                  0.07678          NaN  \n",
       "\n",
       "[5 rows x 33 columns]"
      ]
     },
     "execution_count": 3,
     "metadata": {},
     "output_type": "execute_result"
    }
   ],
   "source": [
    "data.head()"
   ]
  },
  {
   "cell_type": "code",
   "execution_count": 4,
   "metadata": {},
   "outputs": [],
   "source": [
    "# Storing names of columns in \"column_names\" variable.\n",
    "column_names = data.columns"
   ]
  },
  {
   "cell_type": "code",
   "execution_count": 5,
   "metadata": {},
   "outputs": [],
   "source": [
    "# Dropping columns which we will not need\n",
    "data.drop([column_names[0],column_names[32]],axis=1,inplace=True)"
   ]
  },
  {
   "cell_type": "code",
   "execution_count": 6,
   "metadata": {},
   "outputs": [],
   "source": [
    "# Taking class labels into \"labels\" variable.\n",
    "labels = np.array(data['diagnosis']).reshape(data['diagnosis'].shape[0],1)"
   ]
  },
  {
   "cell_type": "code",
   "execution_count": 7,
   "metadata": {},
   "outputs": [],
   "source": [
    "# storing data in the form of array.\n",
    "x = np.array(data.iloc[:,1:])"
   ]
  },
  {
   "cell_type": "markdown",
   "metadata": {},
   "source": [
    "# Applying Principle Component Analysis"
   ]
  },
  {
   "cell_type": "code",
   "execution_count": 8,
   "metadata": {},
   "outputs": [],
   "source": [
    "# Claculating Mean of the data.\n",
    "mu = np.mean(x,axis=0)"
   ]
  },
  {
   "cell_type": "code",
   "execution_count": 9,
   "metadata": {},
   "outputs": [],
   "source": [
    "mu = mu.reshape(-1,mu.shape[0])"
   ]
  },
  {
   "cell_type": "code",
   "execution_count": 10,
   "metadata": {},
   "outputs": [
    {
     "data": {
      "text/plain": [
       "(1, 30)"
      ]
     },
     "execution_count": 10,
     "metadata": {},
     "output_type": "execute_result"
    }
   ],
   "source": [
    "mu.shape"
   ]
  },
  {
   "cell_type": "code",
   "execution_count": 11,
   "metadata": {},
   "outputs": [],
   "source": [
    "# Making data Zero Mean.\n",
    "x_dash = x-mu"
   ]
  },
  {
   "cell_type": "code",
   "execution_count": 12,
   "metadata": {},
   "outputs": [
    {
     "data": {
      "text/plain": [
       "(569, 30)"
      ]
     },
     "execution_count": 12,
     "metadata": {},
     "output_type": "execute_result"
    }
   ],
   "source": [
    "x_dash.shape"
   ]
  },
  {
   "cell_type": "code",
   "execution_count": 13,
   "metadata": {},
   "outputs": [],
   "source": [
    "sigma_hat = (1/data.shape[0])*np.matmul(x_dash.T,x_dash)"
   ]
  },
  {
   "cell_type": "code",
   "execution_count": 14,
   "metadata": {},
   "outputs": [
    {
     "data": {
      "text/plain": [
       "(30, 30)"
      ]
     },
     "execution_count": 14,
     "metadata": {},
     "output_type": "execute_result"
    }
   ],
   "source": [
    "sigma_hat.shape"
   ]
  },
  {
   "cell_type": "code",
   "execution_count": 15,
   "metadata": {},
   "outputs": [],
   "source": [
    "# Appling Singular Value Decomposition\n",
    "sigma_hat_decomposed = np.linalg.svd(sigma_hat)"
   ]
  },
  {
   "cell_type": "code",
   "execution_count": 16,
   "metadata": {},
   "outputs": [
    {
     "data": {
      "text/plain": [
       "3"
      ]
     },
     "execution_count": 16,
     "metadata": {},
     "output_type": "execute_result"
    }
   ],
   "source": [
    "len(sigma_hat_decomposed)"
   ]
  },
  {
   "cell_type": "code",
   "execution_count": 17,
   "metadata": {},
   "outputs": [],
   "source": [
    "# Q is storing the data of eigen values\n",
    "Q = sigma_hat_decomposed[0]"
   ]
  },
  {
   "cell_type": "code",
   "execution_count": 18,
   "metadata": {},
   "outputs": [],
   "source": [
    "# lamda has eigen vectors.\n",
    "lamda = sigma_hat_decomposed[1]"
   ]
  },
  {
   "cell_type": "code",
   "execution_count": 19,
   "metadata": {},
   "outputs": [],
   "source": [
    "# Q_tilda has the number of features we want to take.\n",
    "Q_tilda = Q[:,0:15]"
   ]
  },
  {
   "cell_type": "code",
   "execution_count": 20,
   "metadata": {},
   "outputs": [],
   "source": [
    "# x_new is our new projected data.\n",
    "x_new = np.matmul(x_dash,Q_tilda)"
   ]
  },
  {
   "cell_type": "code",
   "execution_count": 21,
   "metadata": {},
   "outputs": [
    {
     "data": {
      "text/plain": [
       "(569, 15)"
      ]
     },
     "execution_count": 21,
     "metadata": {},
     "output_type": "execute_result"
    }
   ],
   "source": [
    "x_new.shape"
   ]
  },
  {
   "cell_type": "code",
   "execution_count": 22,
   "metadata": {},
   "outputs": [],
   "source": [
    "# converting back to pandas dataframe\n",
    "new_data = pd.DataFrame(x_new)"
   ]
  },
  {
   "cell_type": "code",
   "execution_count": 23,
   "metadata": {},
   "outputs": [],
   "source": [
    "# Attaching labels\n",
    "new_data['diagnosis'] = labels"
   ]
  },
  {
   "cell_type": "code",
   "execution_count": 24,
   "metadata": {},
   "outputs": [
    {
     "data": {
      "text/html": [
       "<div>\n",
       "<style scoped>\n",
       "    .dataframe tbody tr th:only-of-type {\n",
       "        vertical-align: middle;\n",
       "    }\n",
       "\n",
       "    .dataframe tbody tr th {\n",
       "        vertical-align: top;\n",
       "    }\n",
       "\n",
       "    .dataframe thead th {\n",
       "        text-align: right;\n",
       "    }\n",
       "</style>\n",
       "<table border=\"1\" class=\"dataframe\">\n",
       "  <thead>\n",
       "    <tr style=\"text-align: right;\">\n",
       "      <th></th>\n",
       "      <th>0</th>\n",
       "      <th>1</th>\n",
       "      <th>2</th>\n",
       "      <th>3</th>\n",
       "      <th>4</th>\n",
       "      <th>5</th>\n",
       "      <th>6</th>\n",
       "      <th>7</th>\n",
       "      <th>8</th>\n",
       "      <th>9</th>\n",
       "      <th>10</th>\n",
       "      <th>11</th>\n",
       "      <th>12</th>\n",
       "      <th>13</th>\n",
       "      <th>14</th>\n",
       "      <th>diagnosis</th>\n",
       "    </tr>\n",
       "  </thead>\n",
       "  <tbody>\n",
       "    <tr>\n",
       "      <th>0</th>\n",
       "      <td>-1160.142574</td>\n",
       "      <td>-293.917544</td>\n",
       "      <td>48.578398</td>\n",
       "      <td>8.711975</td>\n",
       "      <td>32.000486</td>\n",
       "      <td>-1.265415</td>\n",
       "      <td>0.931337</td>\n",
       "      <td>-0.148167</td>\n",
       "      <td>-0.745463</td>\n",
       "      <td>0.589359</td>\n",
       "      <td>0.307804</td>\n",
       "      <td>-0.043452</td>\n",
       "      <td>0.034777</td>\n",
       "      <td>-0.065069</td>\n",
       "      <td>0.012934</td>\n",
       "      <td>M</td>\n",
       "    </tr>\n",
       "    <tr>\n",
       "      <th>1</th>\n",
       "      <td>-1269.122443</td>\n",
       "      <td>15.630182</td>\n",
       "      <td>-35.394534</td>\n",
       "      <td>-17.861283</td>\n",
       "      <td>-4.334874</td>\n",
       "      <td>0.225872</td>\n",
       "      <td>-0.046037</td>\n",
       "      <td>-0.200804</td>\n",
       "      <td>0.485828</td>\n",
       "      <td>-0.084035</td>\n",
       "      <td>-0.080642</td>\n",
       "      <td>-0.033042</td>\n",
       "      <td>0.045485</td>\n",
       "      <td>0.005534</td>\n",
       "      <td>-0.021368</td>\n",
       "      <td>M</td>\n",
       "    </tr>\n",
       "    <tr>\n",
       "      <th>2</th>\n",
       "      <td>-995.793889</td>\n",
       "      <td>39.156743</td>\n",
       "      <td>-1.709753</td>\n",
       "      <td>-4.199340</td>\n",
       "      <td>-0.466529</td>\n",
       "      <td>2.652811</td>\n",
       "      <td>-0.779745</td>\n",
       "      <td>0.274026</td>\n",
       "      <td>0.173874</td>\n",
       "      <td>-0.186994</td>\n",
       "      <td>-0.279174</td>\n",
       "      <td>0.020464</td>\n",
       "      <td>0.083505</td>\n",
       "      <td>-0.024824</td>\n",
       "      <td>0.026887</td>\n",
       "      <td>M</td>\n",
       "    </tr>\n",
       "    <tr>\n",
       "      <th>3</th>\n",
       "      <td>407.180803</td>\n",
       "      <td>-67.380320</td>\n",
       "      <td>8.672848</td>\n",
       "      <td>11.759867</td>\n",
       "      <td>7.115461</td>\n",
       "      <td>-1.299436</td>\n",
       "      <td>-1.267304</td>\n",
       "      <td>0.060555</td>\n",
       "      <td>0.330639</td>\n",
       "      <td>-0.144155</td>\n",
       "      <td>-0.927471</td>\n",
       "      <td>0.174720</td>\n",
       "      <td>0.282556</td>\n",
       "      <td>-0.080057</td>\n",
       "      <td>-0.043201</td>\n",
       "      <td>M</td>\n",
       "    </tr>\n",
       "    <tr>\n",
       "      <th>4</th>\n",
       "      <td>-930.341180</td>\n",
       "      <td>189.340742</td>\n",
       "      <td>1.374801</td>\n",
       "      <td>-8.499183</td>\n",
       "      <td>7.613289</td>\n",
       "      <td>-1.021160</td>\n",
       "      <td>-0.335522</td>\n",
       "      <td>-0.289109</td>\n",
       "      <td>-0.036087</td>\n",
       "      <td>-0.138502</td>\n",
       "      <td>-0.042228</td>\n",
       "      <td>0.062721</td>\n",
       "      <td>-0.114247</td>\n",
       "      <td>-0.002274</td>\n",
       "      <td>0.019548</td>\n",
       "      <td>M</td>\n",
       "    </tr>\n",
       "    <tr>\n",
       "      <th>...</th>\n",
       "      <td>...</td>\n",
       "      <td>...</td>\n",
       "      <td>...</td>\n",
       "      <td>...</td>\n",
       "      <td>...</td>\n",
       "      <td>...</td>\n",
       "      <td>...</td>\n",
       "      <td>...</td>\n",
       "      <td>...</td>\n",
       "      <td>...</td>\n",
       "      <td>...</td>\n",
       "      <td>...</td>\n",
       "      <td>...</td>\n",
       "      <td>...</td>\n",
       "      <td>...</td>\n",
       "      <td>...</td>\n",
       "    </tr>\n",
       "    <tr>\n",
       "      <th>564</th>\n",
       "      <td>-1414.126684</td>\n",
       "      <td>110.222492</td>\n",
       "      <td>40.065944</td>\n",
       "      <td>-6.562240</td>\n",
       "      <td>-5.102856</td>\n",
       "      <td>0.395424</td>\n",
       "      <td>-0.786751</td>\n",
       "      <td>-0.037082</td>\n",
       "      <td>0.452530</td>\n",
       "      <td>-0.235185</td>\n",
       "      <td>-0.163649</td>\n",
       "      <td>-0.052543</td>\n",
       "      <td>-0.075032</td>\n",
       "      <td>0.015211</td>\n",
       "      <td>0.061390</td>\n",
       "      <td>M</td>\n",
       "    </tr>\n",
       "    <tr>\n",
       "      <th>565</th>\n",
       "      <td>-1045.018854</td>\n",
       "      <td>77.057589</td>\n",
       "      <td>0.036669</td>\n",
       "      <td>4.753245</td>\n",
       "      <td>-12.417863</td>\n",
       "      <td>0.059637</td>\n",
       "      <td>0.449831</td>\n",
       "      <td>-0.509154</td>\n",
       "      <td>0.449986</td>\n",
       "      <td>0.493247</td>\n",
       "      <td>-0.007625</td>\n",
       "      <td>-0.055832</td>\n",
       "      <td>-0.015163</td>\n",
       "      <td>-0.009985</td>\n",
       "      <td>-0.003312</td>\n",
       "      <td>M</td>\n",
       "    </tr>\n",
       "    <tr>\n",
       "      <th>566</th>\n",
       "      <td>-314.501756</td>\n",
       "      <td>47.553525</td>\n",
       "      <td>-10.442407</td>\n",
       "      <td>9.771881</td>\n",
       "      <td>-6.156213</td>\n",
       "      <td>0.870726</td>\n",
       "      <td>-2.166493</td>\n",
       "      <td>0.442279</td>\n",
       "      <td>0.097398</td>\n",
       "      <td>-0.144667</td>\n",
       "      <td>0.109147</td>\n",
       "      <td>-0.076263</td>\n",
       "      <td>-0.004448</td>\n",
       "      <td>0.055285</td>\n",
       "      <td>0.012459</td>\n",
       "      <td>M</td>\n",
       "    </tr>\n",
       "    <tr>\n",
       "      <th>567</th>\n",
       "      <td>-1124.858115</td>\n",
       "      <td>34.129225</td>\n",
       "      <td>-19.742087</td>\n",
       "      <td>23.660881</td>\n",
       "      <td>3.565133</td>\n",
       "      <td>-4.086390</td>\n",
       "      <td>-1.705401</td>\n",
       "      <td>0.359964</td>\n",
       "      <td>-0.385030</td>\n",
       "      <td>0.615467</td>\n",
       "      <td>-0.307166</td>\n",
       "      <td>0.028224</td>\n",
       "      <td>0.060561</td>\n",
       "      <td>0.037742</td>\n",
       "      <td>0.031873</td>\n",
       "      <td>M</td>\n",
       "    </tr>\n",
       "    <tr>\n",
       "      <th>568</th>\n",
       "      <td>771.527622</td>\n",
       "      <td>-88.643106</td>\n",
       "      <td>23.889032</td>\n",
       "      <td>-2.547249</td>\n",
       "      <td>-14.717566</td>\n",
       "      <td>-4.418123</td>\n",
       "      <td>-2.815752</td>\n",
       "      <td>-0.030039</td>\n",
       "      <td>0.423451</td>\n",
       "      <td>-0.301439</td>\n",
       "      <td>-0.133353</td>\n",
       "      <td>0.115105</td>\n",
       "      <td>-0.019667</td>\n",
       "      <td>-0.013734</td>\n",
       "      <td>0.004134</td>\n",
       "      <td>B</td>\n",
       "    </tr>\n",
       "  </tbody>\n",
       "</table>\n",
       "<p>569 rows × 16 columns</p>\n",
       "</div>"
      ],
      "text/plain": [
       "               0           1          2          3          4         5  \\\n",
       "0   -1160.142574 -293.917544  48.578398   8.711975  32.000486 -1.265415   \n",
       "1   -1269.122443   15.630182 -35.394534 -17.861283  -4.334874  0.225872   \n",
       "2    -995.793889   39.156743  -1.709753  -4.199340  -0.466529  2.652811   \n",
       "3     407.180803  -67.380320   8.672848  11.759867   7.115461 -1.299436   \n",
       "4    -930.341180  189.340742   1.374801  -8.499183   7.613289 -1.021160   \n",
       "..           ...         ...        ...        ...        ...       ...   \n",
       "564 -1414.126684  110.222492  40.065944  -6.562240  -5.102856  0.395424   \n",
       "565 -1045.018854   77.057589   0.036669   4.753245 -12.417863  0.059637   \n",
       "566  -314.501756   47.553525 -10.442407   9.771881  -6.156213  0.870726   \n",
       "567 -1124.858115   34.129225 -19.742087  23.660881   3.565133 -4.086390   \n",
       "568   771.527622  -88.643106  23.889032  -2.547249 -14.717566 -4.418123   \n",
       "\n",
       "            6         7         8         9        10        11        12  \\\n",
       "0    0.931337 -0.148167 -0.745463  0.589359  0.307804 -0.043452  0.034777   \n",
       "1   -0.046037 -0.200804  0.485828 -0.084035 -0.080642 -0.033042  0.045485   \n",
       "2   -0.779745  0.274026  0.173874 -0.186994 -0.279174  0.020464  0.083505   \n",
       "3   -1.267304  0.060555  0.330639 -0.144155 -0.927471  0.174720  0.282556   \n",
       "4   -0.335522 -0.289109 -0.036087 -0.138502 -0.042228  0.062721 -0.114247   \n",
       "..        ...       ...       ...       ...       ...       ...       ...   \n",
       "564 -0.786751 -0.037082  0.452530 -0.235185 -0.163649 -0.052543 -0.075032   \n",
       "565  0.449831 -0.509154  0.449986  0.493247 -0.007625 -0.055832 -0.015163   \n",
       "566 -2.166493  0.442279  0.097398 -0.144667  0.109147 -0.076263 -0.004448   \n",
       "567 -1.705401  0.359964 -0.385030  0.615467 -0.307166  0.028224  0.060561   \n",
       "568 -2.815752 -0.030039  0.423451 -0.301439 -0.133353  0.115105 -0.019667   \n",
       "\n",
       "           13        14 diagnosis  \n",
       "0   -0.065069  0.012934         M  \n",
       "1    0.005534 -0.021368         M  \n",
       "2   -0.024824  0.026887         M  \n",
       "3   -0.080057 -0.043201         M  \n",
       "4   -0.002274  0.019548         M  \n",
       "..        ...       ...       ...  \n",
       "564  0.015211  0.061390         M  \n",
       "565 -0.009985 -0.003312         M  \n",
       "566  0.055285  0.012459         M  \n",
       "567  0.037742  0.031873         M  \n",
       "568 -0.013734  0.004134         B  \n",
       "\n",
       "[569 rows x 16 columns]"
      ]
     },
     "execution_count": 24,
     "metadata": {},
     "output_type": "execute_result"
    }
   ],
   "source": [
    "new_data"
   ]
  },
  {
   "cell_type": "markdown",
   "metadata": {},
   "source": [
    "# Seperating Data into Training, Cross Validation and Testing data"
   ]
  },
  {
   "cell_type": "code",
   "execution_count": 25,
   "metadata": {},
   "outputs": [
    {
     "data": {
      "text/plain": [
       "(357, 16)"
      ]
     },
     "execution_count": 25,
     "metadata": {},
     "output_type": "execute_result"
    }
   ],
   "source": [
    "# Number of Benign Tumors in the data\n",
    "new_data[new_data['diagnosis'] == 'B'].shape"
   ]
  },
  {
   "cell_type": "code",
   "execution_count": 26,
   "metadata": {},
   "outputs": [
    {
     "data": {
      "text/plain": [
       "(212, 16)"
      ]
     },
     "execution_count": 26,
     "metadata": {},
     "output_type": "execute_result"
    }
   ],
   "source": [
    "# Number of Malignant Tumors in the data\n",
    "new_data[new_data['diagnosis'] == 'M'].shape"
   ]
  },
  {
   "cell_type": "code",
   "execution_count": 27,
   "metadata": {},
   "outputs": [],
   "source": [
    "new_data['diagnosis'].replace(to_replace='M',value=1,inplace=True)"
   ]
  },
  {
   "cell_type": "code",
   "execution_count": 28,
   "metadata": {},
   "outputs": [],
   "source": [
    "new_data['diagnosis'].replace(to_replace='B',value=0,inplace=True)"
   ]
  },
  {
   "cell_type": "code",
   "execution_count": 29,
   "metadata": {},
   "outputs": [],
   "source": [
    "# Taking 70% of data as training data\n",
    "training_data_len = int(0.7*new_data.shape[0])"
   ]
  },
  {
   "cell_type": "code",
   "execution_count": 30,
   "metadata": {},
   "outputs": [
    {
     "data": {
      "text/plain": [
       "398"
      ]
     },
     "execution_count": 30,
     "metadata": {},
     "output_type": "execute_result"
    }
   ],
   "source": [
    "training_data_len"
   ]
  },
  {
   "cell_type": "code",
   "execution_count": 31,
   "metadata": {},
   "outputs": [],
   "source": [
    "benign_tumor_training_data = new_data[new_data['diagnosis'] == 0].iloc[0:training_data_len//2]"
   ]
  },
  {
   "cell_type": "code",
   "execution_count": 32,
   "metadata": {},
   "outputs": [],
   "source": [
    "malignant_tumor_training_data = new_data[new_data['diagnosis'] == 1].iloc[0:training_data_len//2]"
   ]
  },
  {
   "cell_type": "code",
   "execution_count": 33,
   "metadata": {},
   "outputs": [
    {
     "data": {
      "text/plain": [
       "(199, 16)"
      ]
     },
     "execution_count": 33,
     "metadata": {},
     "output_type": "execute_result"
    }
   ],
   "source": [
    "benign_tumor_training_data.shape"
   ]
  },
  {
   "cell_type": "code",
   "execution_count": 34,
   "metadata": {},
   "outputs": [],
   "source": [
    "training_data = pd.concat([benign_tumor_training_data,malignant_tumor_training_data])"
   ]
  },
  {
   "cell_type": "code",
   "execution_count": 35,
   "metadata": {},
   "outputs": [],
   "source": [
    "# Taking 205 of data as cross validation data and 10% as Testing Data\n",
    "cv_data_len = int(0.2*data.shape[0])"
   ]
  },
  {
   "cell_type": "code",
   "execution_count": 36,
   "metadata": {},
   "outputs": [
    {
     "data": {
      "text/plain": [
       "113"
      ]
     },
     "execution_count": 36,
     "metadata": {},
     "output_type": "execute_result"
    }
   ],
   "source": [
    "cv_data_len"
   ]
  },
  {
   "cell_type": "code",
   "execution_count": 37,
   "metadata": {},
   "outputs": [],
   "source": [
    "benign_remaining_data = new_data[new_data['diagnosis'] == 0].iloc[training_data_len//2:]"
   ]
  },
  {
   "cell_type": "code",
   "execution_count": 38,
   "metadata": {},
   "outputs": [],
   "source": [
    "malignant_remaining_data = new_data[new_data['diagnosis'] == 1].iloc[training_data_len//2:]"
   ]
  },
  {
   "cell_type": "code",
   "execution_count": 39,
   "metadata": {},
   "outputs": [],
   "source": [
    "remaining_data = pd.concat([benign_remaining_data,malignant_remaining_data])"
   ]
  },
  {
   "cell_type": "code",
   "execution_count": 40,
   "metadata": {},
   "outputs": [
    {
     "data": {
      "text/plain": [
       "(171, 16)"
      ]
     },
     "execution_count": 40,
     "metadata": {},
     "output_type": "execute_result"
    }
   ],
   "source": [
    "remaining_data.shape"
   ]
  },
  {
   "cell_type": "code",
   "execution_count": 41,
   "metadata": {},
   "outputs": [],
   "source": [
    "cross_validation_data = remaining_data.iloc[0:cv_data_len]\n",
    "testing_data = remaining_data.iloc[cv_data_len:]"
   ]
  },
  {
   "cell_type": "code",
   "execution_count": 42,
   "metadata": {},
   "outputs": [
    {
     "data": {
      "text/plain": [
       "(113, 16)"
      ]
     },
     "execution_count": 42,
     "metadata": {},
     "output_type": "execute_result"
    }
   ],
   "source": [
    "cross_validation_data.shape"
   ]
  },
  {
   "cell_type": "code",
   "execution_count": 43,
   "metadata": {},
   "outputs": [
    {
     "data": {
      "text/plain": [
       "(58, 16)"
      ]
     },
     "execution_count": 43,
     "metadata": {},
     "output_type": "execute_result"
    }
   ],
   "source": [
    "testing_data.shape"
   ]
  },
  {
   "cell_type": "code",
   "execution_count": 44,
   "metadata": {},
   "outputs": [
    {
     "data": {
      "text/html": [
       "<div>\n",
       "<style scoped>\n",
       "    .dataframe tbody tr th:only-of-type {\n",
       "        vertical-align: middle;\n",
       "    }\n",
       "\n",
       "    .dataframe tbody tr th {\n",
       "        vertical-align: top;\n",
       "    }\n",
       "\n",
       "    .dataframe thead th {\n",
       "        text-align: right;\n",
       "    }\n",
       "</style>\n",
       "<table border=\"1\" class=\"dataframe\">\n",
       "  <thead>\n",
       "    <tr style=\"text-align: right;\">\n",
       "      <th></th>\n",
       "      <th>0</th>\n",
       "      <th>1</th>\n",
       "      <th>2</th>\n",
       "      <th>3</th>\n",
       "      <th>4</th>\n",
       "      <th>5</th>\n",
       "      <th>6</th>\n",
       "      <th>7</th>\n",
       "      <th>8</th>\n",
       "      <th>9</th>\n",
       "      <th>10</th>\n",
       "      <th>11</th>\n",
       "      <th>12</th>\n",
       "      <th>13</th>\n",
       "      <th>14</th>\n",
       "      <th>diagnosis</th>\n",
       "    </tr>\n",
       "  </thead>\n",
       "  <tbody>\n",
       "    <tr>\n",
       "      <th>19</th>\n",
       "      <td>191.621045</td>\n",
       "      <td>12.259178</td>\n",
       "      <td>-6.241020</td>\n",
       "      <td>-3.588034</td>\n",
       "      <td>6.692721</td>\n",
       "      <td>0.037497</td>\n",
       "      <td>0.336992</td>\n",
       "      <td>0.159502</td>\n",
       "      <td>-0.013716</td>\n",
       "      <td>0.010386</td>\n",
       "      <td>0.078203</td>\n",
       "      <td>-0.036511</td>\n",
       "      <td>-0.029271</td>\n",
       "      <td>-0.039346</td>\n",
       "      <td>-0.017123</td>\n",
       "      <td>0</td>\n",
       "    </tr>\n",
       "    <tr>\n",
       "      <th>20</th>\n",
       "      <td>285.051275</td>\n",
       "      <td>14.557362</td>\n",
       "      <td>-10.177971</td>\n",
       "      <td>-1.483015</td>\n",
       "      <td>5.828780</td>\n",
       "      <td>0.790474</td>\n",
       "      <td>0.080541</td>\n",
       "      <td>0.454472</td>\n",
       "      <td>-0.268240</td>\n",
       "      <td>0.092501</td>\n",
       "      <td>0.032368</td>\n",
       "      <td>0.122332</td>\n",
       "      <td>0.037006</td>\n",
       "      <td>0.000394</td>\n",
       "      <td>-0.017677</td>\n",
       "      <td>0</td>\n",
       "    </tr>\n",
       "    <tr>\n",
       "      <th>21</th>\n",
       "      <td>683.583952</td>\n",
       "      <td>-32.576126</td>\n",
       "      <td>15.095343</td>\n",
       "      <td>-12.576780</td>\n",
       "      <td>1.707262</td>\n",
       "      <td>-1.104473</td>\n",
       "      <td>-0.309995</td>\n",
       "      <td>-0.328012</td>\n",
       "      <td>-0.135464</td>\n",
       "      <td>-0.232627</td>\n",
       "      <td>-0.039800</td>\n",
       "      <td>0.013665</td>\n",
       "      <td>-0.016789</td>\n",
       "      <td>0.007654</td>\n",
       "      <td>0.010671</td>\n",
       "      <td>0</td>\n",
       "    </tr>\n",
       "    <tr>\n",
       "      <th>37</th>\n",
       "      <td>355.877850</td>\n",
       "      <td>61.535566</td>\n",
       "      <td>-6.242785</td>\n",
       "      <td>-4.970090</td>\n",
       "      <td>-3.076071</td>\n",
       "      <td>1.750950</td>\n",
       "      <td>-0.091251</td>\n",
       "      <td>-0.511769</td>\n",
       "      <td>-0.102631</td>\n",
       "      <td>1.011803</td>\n",
       "      <td>0.024114</td>\n",
       "      <td>-0.059378</td>\n",
       "      <td>-0.000325</td>\n",
       "      <td>0.018064</td>\n",
       "      <td>-0.035210</td>\n",
       "      <td>0</td>\n",
       "    </tr>\n",
       "    <tr>\n",
       "      <th>46</th>\n",
       "      <td>783.838668</td>\n",
       "      <td>-56.826556</td>\n",
       "      <td>13.657869</td>\n",
       "      <td>-10.929661</td>\n",
       "      <td>-7.112941</td>\n",
       "      <td>-2.742609</td>\n",
       "      <td>-0.747497</td>\n",
       "      <td>0.247352</td>\n",
       "      <td>-0.345514</td>\n",
       "      <td>-0.233113</td>\n",
       "      <td>-0.080757</td>\n",
       "      <td>0.095598</td>\n",
       "      <td>0.009075</td>\n",
       "      <td>-0.027129</td>\n",
       "      <td>-0.006755</td>\n",
       "      <td>0</td>\n",
       "    </tr>\n",
       "    <tr>\n",
       "      <th>...</th>\n",
       "      <td>...</td>\n",
       "      <td>...</td>\n",
       "      <td>...</td>\n",
       "      <td>...</td>\n",
       "      <td>...</td>\n",
       "      <td>...</td>\n",
       "      <td>...</td>\n",
       "      <td>...</td>\n",
       "      <td>...</td>\n",
       "      <td>...</td>\n",
       "      <td>...</td>\n",
       "      <td>...</td>\n",
       "      <td>...</td>\n",
       "      <td>...</td>\n",
       "      <td>...</td>\n",
       "      <td>...</td>\n",
       "    </tr>\n",
       "    <tr>\n",
       "      <th>499</th>\n",
       "      <td>-1099.486889</td>\n",
       "      <td>112.597421</td>\n",
       "      <td>-27.476067</td>\n",
       "      <td>-0.145937</td>\n",
       "      <td>-2.458353</td>\n",
       "      <td>-1.537728</td>\n",
       "      <td>1.274740</td>\n",
       "      <td>-0.224613</td>\n",
       "      <td>-0.469098</td>\n",
       "      <td>-0.102762</td>\n",
       "      <td>0.047910</td>\n",
       "      <td>0.093248</td>\n",
       "      <td>-0.100222</td>\n",
       "      <td>0.029009</td>\n",
       "      <td>0.056247</td>\n",
       "      <td>1</td>\n",
       "    </tr>\n",
       "    <tr>\n",
       "      <th>501</th>\n",
       "      <td>109.464701</td>\n",
       "      <td>-2.229269</td>\n",
       "      <td>3.854344</td>\n",
       "      <td>10.871600</td>\n",
       "      <td>-3.023712</td>\n",
       "      <td>2.215435</td>\n",
       "      <td>0.365275</td>\n",
       "      <td>0.020654</td>\n",
       "      <td>-0.201790</td>\n",
       "      <td>-0.171657</td>\n",
       "      <td>-0.100881</td>\n",
       "      <td>0.175142</td>\n",
       "      <td>0.032250</td>\n",
       "      <td>-0.029611</td>\n",
       "      <td>0.042311</td>\n",
       "      <td>1</td>\n",
       "    </tr>\n",
       "    <tr>\n",
       "      <th>503</th>\n",
       "      <td>-2166.185165</td>\n",
       "      <td>-108.422615</td>\n",
       "      <td>21.170655</td>\n",
       "      <td>-9.870265</td>\n",
       "      <td>4.600230</td>\n",
       "      <td>-6.029129</td>\n",
       "      <td>-3.231749</td>\n",
       "      <td>-0.385159</td>\n",
       "      <td>0.459618</td>\n",
       "      <td>0.086349</td>\n",
       "      <td>0.186573</td>\n",
       "      <td>-0.070107</td>\n",
       "      <td>0.065125</td>\n",
       "      <td>0.036807</td>\n",
       "      <td>0.019955</td>\n",
       "      <td>1</td>\n",
       "    </tr>\n",
       "    <tr>\n",
       "      <th>509</th>\n",
       "      <td>-64.596512</td>\n",
       "      <td>50.650874</td>\n",
       "      <td>-13.205191</td>\n",
       "      <td>13.519044</td>\n",
       "      <td>-3.370923</td>\n",
       "      <td>1.640083</td>\n",
       "      <td>2.685771</td>\n",
       "      <td>-0.600741</td>\n",
       "      <td>-0.693918</td>\n",
       "      <td>-0.225630</td>\n",
       "      <td>0.032308</td>\n",
       "      <td>-0.042296</td>\n",
       "      <td>-0.018556</td>\n",
       "      <td>0.033451</td>\n",
       "      <td>0.003069</td>\n",
       "      <td>1</td>\n",
       "    </tr>\n",
       "    <tr>\n",
       "      <th>512</th>\n",
       "      <td>81.753871</td>\n",
       "      <td>-65.157008</td>\n",
       "      <td>-2.878240</td>\n",
       "      <td>10.121694</td>\n",
       "      <td>4.231035</td>\n",
       "      <td>-1.561071</td>\n",
       "      <td>0.335364</td>\n",
       "      <td>0.303605</td>\n",
       "      <td>-0.151272</td>\n",
       "      <td>-0.183464</td>\n",
       "      <td>0.011138</td>\n",
       "      <td>-0.013619</td>\n",
       "      <td>-0.058982</td>\n",
       "      <td>-0.046188</td>\n",
       "      <td>0.004539</td>\n",
       "      <td>1</td>\n",
       "    </tr>\n",
       "  </tbody>\n",
       "</table>\n",
       "<p>398 rows × 16 columns</p>\n",
       "</div>"
      ],
      "text/plain": [
       "               0           1          2          3         4         5  \\\n",
       "19    191.621045   12.259178  -6.241020  -3.588034  6.692721  0.037497   \n",
       "20    285.051275   14.557362 -10.177971  -1.483015  5.828780  0.790474   \n",
       "21    683.583952  -32.576126  15.095343 -12.576780  1.707262 -1.104473   \n",
       "37    355.877850   61.535566  -6.242785  -4.970090 -3.076071  1.750950   \n",
       "46    783.838668  -56.826556  13.657869 -10.929661 -7.112941 -2.742609   \n",
       "..           ...         ...        ...        ...       ...       ...   \n",
       "499 -1099.486889  112.597421 -27.476067  -0.145937 -2.458353 -1.537728   \n",
       "501   109.464701   -2.229269   3.854344  10.871600 -3.023712  2.215435   \n",
       "503 -2166.185165 -108.422615  21.170655  -9.870265  4.600230 -6.029129   \n",
       "509   -64.596512   50.650874 -13.205191  13.519044 -3.370923  1.640083   \n",
       "512    81.753871  -65.157008  -2.878240  10.121694  4.231035 -1.561071   \n",
       "\n",
       "            6         7         8         9        10        11        12  \\\n",
       "19   0.336992  0.159502 -0.013716  0.010386  0.078203 -0.036511 -0.029271   \n",
       "20   0.080541  0.454472 -0.268240  0.092501  0.032368  0.122332  0.037006   \n",
       "21  -0.309995 -0.328012 -0.135464 -0.232627 -0.039800  0.013665 -0.016789   \n",
       "37  -0.091251 -0.511769 -0.102631  1.011803  0.024114 -0.059378 -0.000325   \n",
       "46  -0.747497  0.247352 -0.345514 -0.233113 -0.080757  0.095598  0.009075   \n",
       "..        ...       ...       ...       ...       ...       ...       ...   \n",
       "499  1.274740 -0.224613 -0.469098 -0.102762  0.047910  0.093248 -0.100222   \n",
       "501  0.365275  0.020654 -0.201790 -0.171657 -0.100881  0.175142  0.032250   \n",
       "503 -3.231749 -0.385159  0.459618  0.086349  0.186573 -0.070107  0.065125   \n",
       "509  2.685771 -0.600741 -0.693918 -0.225630  0.032308 -0.042296 -0.018556   \n",
       "512  0.335364  0.303605 -0.151272 -0.183464  0.011138 -0.013619 -0.058982   \n",
       "\n",
       "           13        14  diagnosis  \n",
       "19  -0.039346 -0.017123          0  \n",
       "20   0.000394 -0.017677          0  \n",
       "21   0.007654  0.010671          0  \n",
       "37   0.018064 -0.035210          0  \n",
       "46  -0.027129 -0.006755          0  \n",
       "..        ...       ...        ...  \n",
       "499  0.029009  0.056247          1  \n",
       "501 -0.029611  0.042311          1  \n",
       "503  0.036807  0.019955          1  \n",
       "509  0.033451  0.003069          1  \n",
       "512 -0.046188  0.004539          1  \n",
       "\n",
       "[398 rows x 16 columns]"
      ]
     },
     "execution_count": 44,
     "metadata": {},
     "output_type": "execute_result"
    }
   ],
   "source": [
    "training_data"
   ]
  },
  {
   "cell_type": "code",
   "execution_count": 45,
   "metadata": {},
   "outputs": [],
   "source": [
    "# Taking mean of the malignant tumors training data.\n",
    "mu_hat_m = np.array(training_data[training_data['diagnosis'] == 1].iloc[:,0:15].mean())"
   ]
  },
  {
   "cell_type": "code",
   "execution_count": 46,
   "metadata": {},
   "outputs": [],
   "source": [
    "# Taking mean of the malignant tumors covariance data.\n",
    "sigma_hat_m = np.array(training_data[training_data['diagnosis'] == 1].iloc[:,0:15].cov())"
   ]
  },
  {
   "cell_type": "code",
   "execution_count": 47,
   "metadata": {},
   "outputs": [
    {
     "data": {
      "text/plain": [
       "19723.271206449655"
      ]
     },
     "execution_count": 47,
     "metadata": {},
     "output_type": "execute_result"
    }
   ],
   "source": [
    "np.linalg.det(sigma_hat_m)"
   ]
  },
  {
   "cell_type": "code",
   "execution_count": 48,
   "metadata": {},
   "outputs": [
    {
     "data": {
      "text/plain": [
       "array([4.83251406e+05, 1.80244546e+04, 1.71425537e+03, 7.92821249e+01,\n",
       "       4.99687724e+01, 4.96625902e+00, 2.33253962e+00, 5.72687305e-01,\n",
       "       3.00085039e-01, 8.46220743e-02, 4.76165511e-02, 1.09368344e-02,\n",
       "       5.88573773e-03, 3.24464641e-03, 2.37829604e-03])"
      ]
     },
     "execution_count": 48,
     "metadata": {},
     "output_type": "execute_result"
    }
   ],
   "source": [
    "sigma_hat_m.diagonal()"
   ]
  },
  {
   "cell_type": "code",
   "execution_count": 49,
   "metadata": {},
   "outputs": [
    {
     "data": {
      "text/plain": [
       "array([-6.19149059e+02, -9.10604406e+00, -3.00251408e+00,  3.21867937e+00,\n",
       "        6.62722209e-01, -1.49641755e-03,  1.33728677e-01, -6.56051800e-03,\n",
       "        4.44266350e-02, -2.27845949e-02, -5.28254216e-02,  2.13821710e-03,\n",
       "        2.13592658e-03, -4.87610367e-03,  1.12627757e-04])"
      ]
     },
     "execution_count": 49,
     "metadata": {},
     "output_type": "execute_result"
    }
   ],
   "source": [
    "mu_hat_m"
   ]
  },
  {
   "cell_type": "code",
   "execution_count": 50,
   "metadata": {},
   "outputs": [],
   "source": [
    "# Calculating Prior for malignant data.\n",
    "malignant_prior = training_data[training_data['diagnosis'] == 1].shape[0]/training_data.shape[0]"
   ]
  },
  {
   "cell_type": "code",
   "execution_count": 51,
   "metadata": {},
   "outputs": [],
   "source": [
    "# Taking mean of the benign tumors training data\n",
    "mu_hat_b = np.array(training_data[training_data['diagnosis'] == 0].iloc[:,0:15].mean())"
   ]
  },
  {
   "cell_type": "code",
   "execution_count": 52,
   "metadata": {},
   "outputs": [],
   "source": [
    "# Taking mean of the benign tumors covariance data.\n",
    "sigma_hat_b = np.array(training_data[training_data['diagnosis'] == 0].iloc[:,0:15].cov())"
   ]
  },
  {
   "cell_type": "code",
   "execution_count": 53,
   "metadata": {},
   "outputs": [
    {
     "data": {
      "text/plain": [
       "1.8304458896984253e-06"
      ]
     },
     "execution_count": 53,
     "metadata": {},
     "output_type": "execute_result"
    }
   ],
   "source": [
    "np.linalg.det(sigma_hat_b)"
   ]
  },
  {
   "cell_type": "code",
   "execution_count": 54,
   "metadata": {},
   "outputs": [],
   "source": [
    "# Calculating Prior for benign data.\n",
    "benign_prior = training_data[training_data['diagnosis'] == 0].shape[0]/training_data.shape[0]"
   ]
  },
  {
   "cell_type": "markdown",
   "metadata": {},
   "source": [
    "# Testing Model"
   ]
  },
  {
   "cell_type": "code",
   "execution_count": 55,
   "metadata": {},
   "outputs": [],
   "source": [
    "def mock_test(data):\n",
    "    \n",
    "    inputs = np.array(data.iloc[:,0:15]) # taking data except for class label\n",
    "    \n",
    "    posterior_m = s.multivariate_normal.pdf(inputs,mu_hat_m,sigma_hat_m)*malignant_prior #calculating posterior for malignant.\n",
    "    \n",
    "    posterior_b = s.multivariate_normal.pdf(inputs,mu_hat_b,sigma_hat_b)*benign_prior #calculating posterior for benign.\n",
    "    \n",
    "    boolean_mask = posterior_m > posterior_b # checking condition if probability of tumor belonging to malignant is higher or not than benign.\n",
    "    \n",
    "    predicted_category = pd.Series(boolean_mask)\n",
    "    \n",
    "    predicted_category.replace(to_replace=[False,True],value=[0,1],inplace=True)\n",
    "    \n",
    "    return np.array(predicted_category)"
   ]
  },
  {
   "cell_type": "code",
   "execution_count": 56,
   "metadata": {},
   "outputs": [],
   "source": [
    "cv_results = mock_test(cross_validation_data)"
   ]
  },
  {
   "cell_type": "code",
   "execution_count": 57,
   "metadata": {},
   "outputs": [
    {
     "data": {
      "text/plain": [
       "array([0, 0, 0, 1, 0, 0, 0, 0, 1, 0, 0, 0, 0, 0, 0, 0, 0, 0, 0, 0, 0, 0,\n",
       "       0, 0, 0, 0, 0, 0, 0, 0, 0, 0, 0, 0, 0, 0, 0, 0, 0, 0, 0, 0, 0, 0,\n",
       "       0, 1, 0, 0, 0, 0, 0, 0, 0, 0, 0, 0, 0, 0, 0, 0, 1, 0, 0, 0, 0, 0,\n",
       "       0, 0, 0, 0, 0, 0, 0, 0, 0, 0, 0, 0, 1, 0, 0, 0, 0, 0, 0, 0, 0, 0,\n",
       "       0, 0, 0, 0, 0, 0, 0, 0, 1, 0, 0, 0, 1, 0, 0, 0, 0, 0, 0, 0, 0, 0,\n",
       "       0, 0, 1], dtype=int64)"
      ]
     },
     "execution_count": 57,
     "metadata": {},
     "output_type": "execute_result"
    }
   ],
   "source": [
    "cv_results"
   ]
  },
  {
   "cell_type": "code",
   "execution_count": 58,
   "metadata": {},
   "outputs": [],
   "source": [
    "acutal_results = np.array(cross_validation_data['diagnosis'])"
   ]
  },
  {
   "cell_type": "code",
   "execution_count": 59,
   "metadata": {},
   "outputs": [
    {
     "data": {
      "text/plain": [
       "array([0, 0, 0, 0, 0, 0, 0, 0, 0, 0, 0, 0, 0, 0, 0, 0, 0, 0, 0, 0, 0, 0,\n",
       "       0, 0, 0, 0, 0, 0, 0, 0, 0, 0, 0, 0, 0, 0, 0, 0, 0, 0, 0, 0, 0, 0,\n",
       "       0, 0, 0, 0, 0, 0, 0, 0, 0, 0, 0, 0, 0, 0, 0, 0, 0, 0, 0, 0, 0, 0,\n",
       "       0, 0, 0, 0, 0, 0, 0, 0, 0, 0, 0, 0, 0, 0, 0, 0, 0, 0, 0, 0, 0, 0,\n",
       "       0, 0, 0, 0, 0, 0, 0, 0, 0, 0, 0, 0, 0, 0, 0, 0, 0, 0, 0, 0, 0, 0,\n",
       "       0, 0, 0], dtype=int64)"
      ]
     },
     "execution_count": 59,
     "metadata": {},
     "output_type": "execute_result"
    }
   ],
   "source": [
    "acutal_results"
   ]
  },
  {
   "cell_type": "code",
   "execution_count": 60,
   "metadata": {},
   "outputs": [],
   "source": [
    "boolean_mask = cv_results == acutal_results"
   ]
  },
  {
   "cell_type": "code",
   "execution_count": 61,
   "metadata": {},
   "outputs": [],
   "source": [
    "cv_accuracy = np.count_nonzero(boolean_mask)/boolean_mask.shape[0]"
   ]
  },
  {
   "cell_type": "code",
   "execution_count": 62,
   "metadata": {},
   "outputs": [
    {
     "data": {
      "text/plain": [
       "0.9292035398230089"
      ]
     },
     "execution_count": 62,
     "metadata": {},
     "output_type": "execute_result"
    }
   ],
   "source": [
    "# Cross Validation Accuracy\n",
    "cv_accuracy"
   ]
  },
  {
   "cell_type": "code",
   "execution_count": 63,
   "metadata": {},
   "outputs": [],
   "source": [
    "test_results = mock_test(testing_data)"
   ]
  },
  {
   "cell_type": "code",
   "execution_count": 64,
   "metadata": {},
   "outputs": [
    {
     "data": {
      "text/plain": [
       "array([0, 0, 0, 0, 0, 0, 0, 0, 0, 0, 0, 0, 0, 0, 0, 0, 0, 0, 0, 0, 0, 0,\n",
       "       0, 0, 0, 0, 0, 0, 0, 0, 0, 0, 0, 0, 0, 0, 0, 0, 0, 0, 0, 0, 0, 0,\n",
       "       0, 1, 1, 1, 1, 1, 1, 0, 1, 1, 1, 1, 1, 1], dtype=int64)"
      ]
     },
     "execution_count": 64,
     "metadata": {},
     "output_type": "execute_result"
    }
   ],
   "source": [
    "test_results"
   ]
  },
  {
   "cell_type": "code",
   "execution_count": 65,
   "metadata": {},
   "outputs": [],
   "source": [
    "actual_test_results = np.array(testing_data['diagnosis'])"
   ]
  },
  {
   "cell_type": "code",
   "execution_count": 66,
   "metadata": {},
   "outputs": [
    {
     "data": {
      "text/plain": [
       "array([0, 0, 0, 0, 0, 0, 0, 0, 0, 0, 0, 0, 0, 0, 0, 0, 0, 0, 0, 0, 0, 0,\n",
       "       0, 0, 0, 0, 0, 0, 0, 0, 0, 0, 0, 0, 0, 0, 0, 0, 0, 0, 0, 0, 0, 0,\n",
       "       0, 1, 1, 1, 1, 1, 1, 1, 1, 1, 1, 1, 1, 1], dtype=int64)"
      ]
     },
     "execution_count": 66,
     "metadata": {},
     "output_type": "execute_result"
    }
   ],
   "source": [
    "actual_test_results"
   ]
  },
  {
   "cell_type": "code",
   "execution_count": 67,
   "metadata": {},
   "outputs": [],
   "source": [
    "boolean_mask_1 = test_results == actual_test_results"
   ]
  },
  {
   "cell_type": "code",
   "execution_count": 68,
   "metadata": {},
   "outputs": [],
   "source": [
    "test_accuracy = np.count_nonzero(boolean_mask_1)/boolean_mask_1.shape[0]"
   ]
  },
  {
   "cell_type": "code",
   "execution_count": 69,
   "metadata": {},
   "outputs": [
    {
     "data": {
      "text/plain": [
       "0.9827586206896551"
      ]
     },
     "execution_count": 69,
     "metadata": {},
     "output_type": "execute_result"
    }
   ],
   "source": [
    "# Testing Accuracy\n",
    "test_accuracy"
   ]
  },
  {
   "cell_type": "code",
   "execution_count": 70,
   "metadata": {},
   "outputs": [],
   "source": [
    "def perf_measure(y_actual, y_pred):\n",
    "    \n",
    "    TP = 0\n",
    "    FP = 0\n",
    "    TN = 0\n",
    "    FN = 0\n",
    "    \n",
    "    for i in range(len(y_pred)): \n",
    "        if y_actual[i]==1 and y_pred[i]==1: # Calculating True Positive\n",
    "            TP+=1\n",
    "        if y_pred[i]==1 and y_actual[i]==0: # Calculating False Positive\n",
    "            FP += 1\n",
    "        if y_actual[i]==0 and y_pred[i]==0: # Calculating True Negative\n",
    "            TN += 1\n",
    "        if y_pred[i]==0 and y_actual[i]==1: # Calculating False Negative\n",
    "            FN += 1\n",
    "    \n",
    "    Precision = (TP/(TP+FP))\n",
    "    Recall = (TP/(TP+FN))\n",
    "    F1_Score = (2*(Precision*Recall))/(Precision+Recall)\n",
    "    \n",
    "    return \"Precision is \"+str(Precision), \"Recall is \"+str(Recall), \"F1_Score is \"+str(F1_Score)"
   ]
  },
  {
   "cell_type": "code",
   "execution_count": 71,
   "metadata": {},
   "outputs": [
    {
     "data": {
      "text/plain": [
       "('Precision is 1.0',\n",
       " 'Recall is 0.9230769230769231',\n",
       " 'F1_Score is 0.9600000000000001')"
      ]
     },
     "execution_count": 71,
     "metadata": {},
     "output_type": "execute_result"
    }
   ],
   "source": [
    "perf_measure(actual_test_results,test_results)"
   ]
  },
  {
   "cell_type": "code",
   "execution_count": null,
   "metadata": {},
   "outputs": [],
   "source": []
  }
 ],
 "metadata": {
  "kernelspec": {
   "display_name": "Python 3",
   "language": "python",
   "name": "python3"
  },
  "language_info": {
   "codemirror_mode": {
    "name": "ipython",
    "version": 3
   },
   "file_extension": ".py",
   "mimetype": "text/x-python",
   "name": "python",
   "nbconvert_exporter": "python",
   "pygments_lexer": "ipython3",
   "version": "3.7.1"
  }
 },
 "nbformat": 4,
 "nbformat_minor": 2
}
